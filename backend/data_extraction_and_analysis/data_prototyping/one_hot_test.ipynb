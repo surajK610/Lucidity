{
 "cells": [
  {
   "cell_type": "code",
   "execution_count": 10,
   "metadata": {},
   "outputs": [
    {
     "data": {
      "text/plain": [
       "array([[1, 0, 0, 0, 0, 0, 0, 0, 0, 1, 0, 0, 0, 0, 0, 0, 0, 0, 0, 0, 0, 0,\n",
       "        0, 0]])"
      ]
     },
     "execution_count": 10,
     "metadata": {},
     "output_type": "execute_result"
    }
   ],
   "source": [
    "from sklearn.preprocessing import MultiLabelBinarizer\n",
    "\n",
    "features = []\n",
    "features += ['Joy','Sadness','Anger','Fear','Love','Surprise']\n",
    "features += ['Politics','Love','Heavy Emotion','Health','Animals','Science','Joke','Compliment','Religion','Self','Education']\n",
    "features += ['I','E','S','N','T','F','J','P']\n",
    "\n",
    "\n",
    "one_hot = MultiLabelBinarizer()\n",
    "\n",
    "one_hot.fit([features])\n",
    "\n",
    "one_hot.transform([['Anger','I']])"
   ]
  },
  {
   "cell_type": "code",
   "execution_count": 11,
   "metadata": {},
   "outputs": [
    {
     "data": {
      "text/plain": [
       "array(['Anger', 'Animals', 'Compliment', 'E', 'Education', 'F', 'Fear',\n",
       "       'Health', 'Heavy Emotion', 'I', 'J', 'Joke', 'Joy', 'Love', 'N',\n",
       "       'P', 'Politics', 'Religion', 'S', 'Sadness', 'Science', 'Self',\n",
       "       'Surprise', 'T'], dtype=object)"
      ]
     },
     "execution_count": 11,
     "metadata": {},
     "output_type": "execute_result"
    }
   ],
   "source": [
    "one_hot.classes_"
   ]
  },
  {
   "cell_type": "code",
   "execution_count": null,
   "metadata": {},
   "outputs": [],
   "source": []
  }
 ],
 "metadata": {
  "kernelspec": {
   "display_name": "Python 3",
   "language": "python",
   "name": "python3"
  },
  "language_info": {
   "codemirror_mode": {
    "name": "ipython",
    "version": 3
   },
   "file_extension": ".py",
   "mimetype": "text/x-python",
   "name": "python",
   "nbconvert_exporter": "python",
   "pygments_lexer": "ipython3",
   "version": "3.8.5"
  }
 },
 "nbformat": 4,
 "nbformat_minor": 4
}
